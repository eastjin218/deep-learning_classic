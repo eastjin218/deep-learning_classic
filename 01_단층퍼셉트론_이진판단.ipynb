{
 "cells": [
  {
   "cell_type": "code",
   "execution_count": 2,
   "metadata": {},
   "outputs": [],
   "source": [
    "import os, glob, csv, time\n",
    "import numpy as np"
   ]
  },
  {
   "cell_type": "code",
   "execution_count": 3,
   "metadata": {},
   "outputs": [],
   "source": [
    "np.random.seed(1234)\n",
    "def randomize():\n",
    "    np.random.seed(time.time())"
   ]
  },
  {
   "cell_type": "code",
   "execution_count": 4,
   "metadata": {},
   "outputs": [],
   "source": [
    "RND_MEAN = 0\n",
    "RND_STD=0.0030\n",
    "\n",
    "LEARNING_RATE = 0.001"
   ]
  },
  {
   "cell_type": "code",
   "execution_count": 5,
   "metadata": {},
   "outputs": [],
   "source": [
    "def main(epoch_count= 10, mb_size= 10, report=1):\n",
    "    load_dataset()\n",
    "    init_model()\n",
    "    trainer(epoch_count, mb_size, report)"
   ]
  },
  {
   "cell_type": "code",
   "execution_count": 23,
   "metadata": {},
   "outputs": [],
   "source": [
    "def load_dataset():\n",
    "    with open('./pulsar_stars.csv') as file:\n",
    "        csvreader=csv.reader(file)\n",
    "        next(csvreader, None)\n",
    "        rows=[]\n",
    "        for row in csvreader:\n",
    "            rows.append(row)\n",
    "    global data, input_cnt, output_cnt\n",
    "    input_cnt, output_cnt = 8, 1\n",
    "    # 리스트 구조를 array로 변환\n",
    "    data = np.asarray(rows, dtype='float32')\n",
    "    \n",
    "def init_model():\n",
    "    global weight, bias, input_cnt, output_cnt\n",
    "    weight = np.random.normal(RND_MEAN, RND_STD, [input_cnt, output_cnt])\n",
    "    bias = np.zeros([output_cnt])\n",
    "    \n",
    "def trainer(epoch_count, mb_size, report):\n",
    "    step_count = arrange_data(mb_size)\n",
    "    test_x, test_y = get_test_data()\n",
    "    for epoch in range(epoch_count):\n",
    "        losses , accs = [],[]\n",
    "        for n in range(step_count):\n",
    "            train_x, train_y = get_train_data(mb_size, n)\n",
    "            loss, acc = run_train(train_x, train_y)\n",
    "            losses.append(loss)\n",
    "            accs.append(acc)\n",
    "        \n",
    "        if report >0 and (epoch+1)%report ==0:\n",
    "            acc = run_test(test_x, test_y)\n",
    "            print(\"Epoch {}: loss={:5.3f}, accuracy={:5.3f}/{:5.3f}\".format(epoch+1, np.mean(losses), np.mean(accs), acc))\n",
    "    final_acc = run_test(test_x, test_y)\n",
    "    print('\\nFinal Test: final accuracy = {:5.3f}'.format(final_acc))"
   ]
  },
  {
   "cell_type": "code",
   "execution_count": 7,
   "metadata": {},
   "outputs": [],
   "source": [
    "## dataloader 부분에 해당 \n",
    "def arrange_data(mb_size):\n",
    "    # 데이터 정렬\n",
    "    global data, shuffle_map, test_begin_idx\n",
    "    shuffle_map = np.arange(data.shape[0])\n",
    "    np.random.shuffle(shuffle_map)\n",
    "    step_count = int(data.shape[0]*.8)// mb_size\n",
    "    test_begin_idx = step_count * mb_size\n",
    "    return step_count\n",
    "\n",
    "def get_test_data():\n",
    "    # 테스트 데이버 확보\n",
    "    global data, shuffle_map, test_begin_idx, output_cnt\n",
    "    test_data = data[shuffle_map[test_begin_idx:]]\n",
    "    return test_data[:,:-output_cnt], test_data[:, -output_cnt:]\n",
    "\n",
    "def get_train_data(mb_size, nth):\n",
    "    # 트레인데이터 확보\n",
    "    global data, shuffle_map, test_begin_idx, output_cnt\n",
    "    if nth == 0:\n",
    "        np.random.shuffle(shuffle_map[:test_begin_idx])\n",
    "    train_data = data[shuffle_map[mb_size*nth:mb_size*(nth+1)]]\n",
    "    return train_data[:, :-output_cnt], train_data[:, -output_cnt:]"
   ]
  },
  {
   "cell_type": "code",
   "execution_count": 34,
   "metadata": {},
   "outputs": [],
   "source": [
    "def run_train(x, y):\n",
    "    # 순전파\n",
    "    output, aux_nn = forward_neuralnet(x)\n",
    "    # 순전파 후처리 연산과정\n",
    "    loss, aux_pp = forward_postproc(output, y)\n",
    "    # 정확도 판별\n",
    "#     accuracy = eval_accuracy(output, y)\n",
    "    # f1, 정확도, 정밀도, 재현율 고려한 평가함수로 변경\n",
    "    accuracy = refine_eval_accuracy(output, y)\n",
    "    G_loss = 1.0\n",
    "    # 역전파 후처리 연산과정\n",
    "    G_output=backprop_postproc(G_loss, aux_pp)\n",
    "    # 역전파\n",
    "    backprop_neuralnet(G_output, aux_nn)\n",
    "    \n",
    "    return loss, accuracy\n",
    "\n",
    "def run_test(x, y):\n",
    "    output, _ = forward_neuralnet(x)\n",
    "    # f1, 정확도, 정밀도, 재현율 고려한 평가함수로 변경\n",
    "    accuracy = refine_eval_accuracy(output, y)\n",
    "#    accuracy = eval_accuracy(output, y)\n",
    "    return accuracy"
   ]
  },
  {
   "cell_type": "code",
   "execution_count": 9,
   "metadata": {},
   "outputs": [],
   "source": [
    "def forward_neuralnet(x):\n",
    "    global weight, bias\n",
    "    output = np.matmul(x, weight) + bias\n",
    "    return output, x\n",
    "\n",
    "def backprop_neuralnet(G_output, x):\n",
    "    global weight, bias\n",
    "    g_output_w = x.transpose()\n",
    "    \n",
    "    G_w = np.matmul(g_output_w, G_output)\n",
    "    G_b = np.sum(G_output, axis=0)\n",
    "    weight -=LEARNING_RATE *G_w\n",
    "    bias -= LEARNING_RATE * G_b"
   ]
  },
  {
   "cell_type": "code",
   "execution_count": 10,
   "metadata": {},
   "outputs": [],
   "source": [
    "def forward_postproc(output, y):\n",
    "    entropy = sigmoid_cross_entropy_with_logits(y, output)\n",
    "    loss = np.mean(entropy)\n",
    "    return loss , [y, output, entropy]\n",
    "\n",
    "def backprop_postproc(G_loss, aux):\n",
    "    y, output, entropy = aux\n",
    "    g_loss_entropy = 1.0 / np.prod(entropy.shape)\n",
    "    g_entropy_output = sigmoid_cross_entropy_with_logits_derv(y, output)\n",
    "    G_entropy = g_loss_entropy* G_loss\n",
    "    G_output = g_entropy_output* G_entropy\n",
    "    return G_output"
   ]
  },
  {
   "cell_type": "code",
   "execution_count": 12,
   "metadata": {},
   "outputs": [],
   "source": [
    "def eval_accuracy(output, y):\n",
    "    # 추론값을 을 기준으로 음수 양수의 값을 비교\n",
    "    estimate = np.greater(output, 0)\n",
    "    # 정답에서 0.5를 기준으로 높으면 True, 낮으면 False로 진행\n",
    "    # y인 label 은 1 or 0 이기 떄문에 둘중 한개로 결정됨\n",
    "    answer = np.greater(y, 0.5)\n",
    "    correct= np.equal(estimate, answer)\n",
    "    return np.mean(correct)"
   ]
  },
  {
   "cell_type": "code",
   "execution_count": 13,
   "metadata": {},
   "outputs": [],
   "source": [
    "def relu(x):\n",
    "    return np.maximum(x,0)\n",
    "\n",
    "def sigmoid(x):\n",
    "    return np.exp(-relu(-x))/(1.0 +np.exp(-np.abs(x)))\n",
    "\n",
    "def sigmoid_derv(x, y):\n",
    "    return y * (1-y)\n",
    "\n",
    "def sigmoid_cross_entropy_with_logits(z, x):\n",
    "    return relu(x) -x * z +np.log(1 + np.exp(-np.abs(x)))\n",
    "\n",
    "def sigmoid_cross_entropy_with_logits_derv(z, x):\n",
    "    return -z + sigmoid(x)"
   ]
  },
  {
   "cell_type": "code",
   "execution_count": 25,
   "metadata": {},
   "outputs": [
    {
     "name": "stdout",
     "output_type": "stream",
     "text": [
      "Epoch 1: loss=0.151, accuracy=0.959/0.948\n",
      "Epoch 2: loss=0.146, accuracy=0.964/0.974\n",
      "Epoch 3: loss=0.130, accuracy=0.966/0.975\n",
      "Epoch 4: loss=0.137, accuracy=0.966/0.955\n",
      "Epoch 5: loss=0.128, accuracy=0.969/0.976\n",
      "Epoch 6: loss=0.125, accuracy=0.969/0.977\n",
      "Epoch 7: loss=0.137, accuracy=0.968/0.972\n",
      "Epoch 8: loss=0.142, accuracy=0.967/0.976\n",
      "Epoch 9: loss=0.132, accuracy=0.970/0.910\n",
      "Epoch 10: loss=0.131, accuracy=0.969/0.976\n",
      "\n",
      "Final Test: final accuracy = 0.976\n"
     ]
    }
   ],
   "source": [
    "main()"
   ]
  },
  {
   "cell_type": "code",
   "execution_count": 45,
   "metadata": {},
   "outputs": [],
   "source": [
    "def main_used_f1(epoch_count= 10, mb_size= 10, report=1, adjust_ratio=False):\n",
    "    load_dataset_refine(adjust_ratio)\n",
    "    init_model()\n",
    "    refine_trainer(epoch_count, mb_size, report)"
   ]
  },
  {
   "cell_type": "code",
   "execution_count": 44,
   "metadata": {},
   "outputs": [],
   "source": [
    "def load_dataset_refine(adjust_ratio):\n",
    "    stars, pulses = [], []\n",
    "    with open('./pulsar_stars.csv') as file:\n",
    "        csvreader = csv.reader(file)\n",
    "        next(csvreader, None)\n",
    "        for row in csvreader:\n",
    "            if row[8] =='1' : pulses.append(row)\n",
    "            else: stars.append(row)\n",
    "    global data, input_cnt, output_cnt\n",
    "    input_cnt, output_cnt = 8,1\n",
    "    \n",
    "    star_cnt, pulses_cnt = len(stars), len(pulses)\n",
    "    #if star_cnt > pulses_cnt:big, small = star_cnt,pulses_cnt\n",
    "    #else: big, small = pulses_cnt, star_cnt\n",
    "    if adjust_ratio:\n",
    "        data= np.zeros([2*star_cnt, input_cnt+ output_cnt])\n",
    "        data[:star_cnt, :]=np.asarray(stars, dtype='float32')\n",
    "        for n in range(star_cnt):\n",
    "            data[star_cnt+n] = np.asarray(pulses[n % pulses_cnt], dtype='float32')\n",
    "    else:\n",
    "        data = np.zeros([star_cnt+pulses_cnt, input_cnt+output_cnt])\n",
    "        data[:star_cnt, :] = np.asarray(stars, dtype='float32')\n",
    "        data[star_cnt:, :] = np.asarray(pulses, dtype='float32')\n",
    "                        "
   ]
  },
  {
   "cell_type": "code",
   "execution_count": 47,
   "metadata": {},
   "outputs": [],
   "source": [
    "def refine_eval_accuracy(output, y):\n",
    "    est_yes = np.greater(output, 0)\n",
    "    ans_yes = np.greater(y, .5)\n",
    "    est_no = np.logical_not(est_yes)\n",
    "    ans_no = np.logical_not(ans_yes)\n",
    "    \n",
    "    tp = np.sum(np.logical_and(est_yes, ans_yes))\n",
    "    fp = np.sum(np.logical_and(est_yes, ans_no))\n",
    "    fn = np.sum(np.logical_and(est_no, ans_yes))\n",
    "    tn = np.sum(np.logical_and(est_no, ans_no))\n",
    "    \n",
    "    accuracy = safe_div(tp+tn , tp+tn+fn+fp)\n",
    "    precision = safe_div(tp, tp+fp)\n",
    "    recall = safe_div(tp, tp+fn)\n",
    "    f1 = 2*safe_div(recall*precision, recall+precision)\n",
    "    return [accuracy, precision, recall, f1]\n",
    "\n",
    "def safe_div(p,q):\n",
    "    p,q = float(p), float(q)\n",
    "    if np.abs(q) < 1.0e-20: return np.sign(p)\n",
    "    return p / q"
   ]
  },
  {
   "cell_type": "code",
   "execution_count": 42,
   "metadata": {},
   "outputs": [],
   "source": [
    "def refine_trainer(epoch_count, mb_size, report):\n",
    "    step_count = arrange_data(mb_size)\n",
    "    test_x, test_y = get_test_data()\n",
    "    for epoch in range(epoch_count):\n",
    "        losses = []\n",
    "        for n in range(step_count):\n",
    "            train_x, train_y = get_train_data(mb_size, n)\n",
    "            loss, _ = run_train(train_x, train_y)\n",
    "            losses.append(loss)\n",
    "\n",
    "        if report >0 and (epoch+1)%report ==0:\n",
    "            acc = run_test(test_x, test_y)\n",
    "            acc_str = ','.join(['%5.3f']*4)%tuple(acc)\n",
    "            print(\"Epoch {}: loss={:5.3f}, result={}\"\n",
    "                  .format(epoch+1, np.mean(losses), acc_str))\n",
    "    acc = run_test(test_x, test_y)\n",
    "    acc_str = ','.join(['%5.3f']*4)%tuple(acc)\n",
    "    print('\\nFinal Test: final result = {}'.format(acc_str))"
   ]
  },
  {
   "cell_type": "code",
   "execution_count": 48,
   "metadata": {},
   "outputs": [
    {
     "name": "stdout",
     "output_type": "stream",
     "text": [
      "Epoch 1: loss=0.138, result=0.971,0.929,0.744,0.826\n",
      "Epoch 2: loss=0.129, result=0.972,0.936,0.750,0.833\n",
      "Epoch 3: loss=0.132, result=0.973,0.924,0.774,0.843\n",
      "Epoch 4: loss=0.146, result=0.973,0.940,0.759,0.840\n",
      "Epoch 5: loss=0.122, result=0.975,0.914,0.804,0.856\n",
      "Epoch 6: loss=0.125, result=0.973,0.931,0.768,0.842\n",
      "Epoch 7: loss=0.121, result=0.974,0.886,0.819,0.851\n",
      "Epoch 8: loss=0.121, result=0.975,0.890,0.828,0.858\n",
      "Epoch 9: loss=0.129, result=0.973,0.880,0.819,0.849\n",
      "Epoch 10: loss=0.125, result=0.976,0.924,0.804,0.860\n",
      "\n",
      "Final Test: final result = 0.976,0.924,0.804,0.860\n"
     ]
    }
   ],
   "source": [
    "main_used_f1(adjust_ratio=False)"
   ]
  },
  {
   "cell_type": "code",
   "execution_count": null,
   "metadata": {},
   "outputs": [],
   "source": []
  }
 ],
 "metadata": {
  "kernelspec": {
   "display_name": "Python 3",
   "language": "python",
   "name": "python3"
  },
  "language_info": {
   "codemirror_mode": {
    "name": "ipython",
    "version": 3
   },
   "file_extension": ".py",
   "mimetype": "text/x-python",
   "name": "python",
   "nbconvert_exporter": "python",
   "pygments_lexer": "ipython3",
   "version": "3.8.5"
  }
 },
 "nbformat": 4,
 "nbformat_minor": 4
}
